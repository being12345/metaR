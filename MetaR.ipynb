{
 "cells": [
  {
   "cell_type": "code",
   "execution_count": 1,
   "outputs": [],
   "source": [
    "# python\n",
    "import os\n",
    "import math\n",
    "import csv\n",
    "\n",
    "# random\n",
    "import random\n",
    "#data analysis libraries\n",
    "import numpy as np\n",
    "import pandas as pd\n",
    "\n",
    "# machine learning\n",
    "import sklearn\n",
    "\n",
    "# deep learning\n",
    "import torch\n",
    "import torch.nn as nn\n",
    "from torch.utils.data import Dataset, DataLoader, random_split\n",
    "import torch.nn.functional as F\n",
    "import pytorch_lightning as pl\n",
    "\n",
    "#d2l\n",
    "import d2l.torch as d2l\n",
    "\n",
    "# For plotting learning curve\n",
    "from torch.utils.tensorboard import SummaryWriter\n",
    "\n",
    "\n",
    "#visualization libraries\n",
    "import matplotlib.pyplot as plt\n",
    "import seaborn as sns\n",
    "%matplotlib inline\n",
    "\n",
    "# For Progress Bar\n",
    "from tqdm import tqdm\n",
    "\n",
    "#ignore warnings\n",
    "import warnings\n",
    "\n",
    "warnings.filterwarnings('ignore')\n",
    "\n",
    "# auto load change\n",
    "%load_ext autoreload\n",
    "%autoreload 2"
   ],
   "metadata": {
    "collapsed": false,
    "ExecuteTime": {
     "end_time": "2023-11-20T23:55:58.590318700Z",
     "start_time": "2023-11-20T23:55:49.208675700Z"
    }
   },
   "id": "2499a40e3ae386ff"
  },
  {
   "cell_type": "markdown",
   "source": [
    "## Improvement\n",
    "+ relation not just one\n",
    "+ add base class"
   ],
   "metadata": {
    "collapsed": false
   },
   "id": "1d1c3028f4ec9c8c"
  },
  {
   "cell_type": "markdown",
   "source": [
    "## Dataset set up\n",
    "+ NELL one: 30 base classes, 21 novel classes(3 way 5 shot 7 sessions)"
   ],
   "metadata": {
    "collapsed": false
   },
   "id": "14fbfdefbf2f1a16"
  },
  {
   "cell_type": "markdown",
   "source": [
    "## Dataset and DataLoader\n",
    "+ `few`: instance number in support set\""
   ],
   "metadata": {
    "collapsed": false
   },
   "id": "a51f0a0f1339d505"
  },
  {
   "cell_type": "code",
   "execution_count": 2,
   "outputs": [],
   "source": [
    "import json\n",
    "import random\n",
    "\n",
    "import numpy as np\n",
    "\n",
    "dataset = dict()\n",
    "tail = ''\n",
    "data_dir = {\n",
    "    'train_tasks_in_train': '/train_tasks_in_train.json',\n",
    "    'train_tasks': '/train_tasks.json',\n",
    "    'test_tasks': '/test_tasks.json',\n",
    "    'dev_tasks': '/dev_tasks.json',\n",
    "\n",
    "    'rel2candidates_in_train': '/rel2candidates_in_train.json',\n",
    "    'rel2candidates': '/rel2candidates.json',\n",
    "\n",
    "    'e1rel_e2_in_train': '/e1rel_e2_in_train.json',\n",
    "    'e1rel_e2': '/e1rel_e2.json',\n",
    "\n",
    "    'ent2ids': '/ent2ids',\n",
    "    'ent2vec': '/ent2vec.npy',\n",
    "}\n",
    "\n",
    "for k, v in data_dir.items():\n",
    "    data_dir[k] = './NELL' + v"
   ],
   "metadata": {
    "collapsed": false,
    "ExecuteTime": {
     "end_time": "2023-11-20T23:55:59.037198500Z",
     "start_time": "2023-11-20T23:55:58.588319600Z"
    }
   },
   "id": "b83cc0b0805fbe8d"
  },
  {
   "cell_type": "code",
   "execution_count": 3,
   "outputs": [],
   "source": [
    "from data_loader import DataLoader\n",
    "\n",
    "params = {'few': 1, 'batch_size': 2, 'num_query': 3}\n",
    "dataset['train_tasks'] = json.load(open(data_dir['train_tasks' + tail]))  # (h_i, r, e_i) only one relation in a current task\n",
    "dataset['test_tasks'] = json.load(open(data_dir['test_tasks']))\n",
    "dataset['dev_tasks'] = json.load(open(data_dir['dev_tasks']))  #\n",
    "dataset['rel2candidates'] = json.load(open(data_dir['rel2candidates' + tail]))  # negative t candidate \n",
    "dataset['e1rel_e2'] = json.load(open(data_dir['e1rel_e2' + tail]))  # the whole graph key: e1rel value e2\n",
    "dataset['ent2id'] = json.load(open(data_dir['ent2ids']))    # entity id\n",
    "dataset['ent2emb'] = np.load(data_dir['ent2vec'])   # entity embedding\n",
    "\n",
    "train_data_loader = DataLoader(dataset, params, step='train')"
   ],
   "metadata": {
    "collapsed": false,
    "ExecuteTime": {
     "end_time": "2023-11-21T00:00:54.871895500Z",
     "start_time": "2023-11-21T00:00:51.123125500Z"
    }
   },
   "id": "178867ad723625d5"
  },
  {
   "cell_type": "code",
   "execution_count": 12,
   "outputs": [
    {
     "name": "stdout",
     "output_type": "stream",
     "text": [
      "9\n"
     ]
    }
   ],
   "source": [
    "is_last = False\n",
    "support_triples, support_negative_triples, query_triples, negative_triples, curr_rel = train_data_loader.next_one(is_last)\n",
    "print(train_data_loader.curr_rel_idx)\n",
    "support_triples_1, support_negative_triples_1, query_triples_1, negative_triples_1, curr_rel_1 = train_data_loader.next_one(is_last)\n",
    "support_triples_1, support_negative_triples_1, query_triples_1, negative_triples_1, curr_rel_1 = train_data_loader.next_one(is_last)\n",
    "support_triples_1, support_negative_triples_1, query_triples_1, negative_triples_1, curr_rel_1 = train_data_loader.next_one(is_last)\n",
    "is_last = True\n",
    "support_triples_1, support_negative_triples_1, query_triples_1, negative_triples_1, curr_rel_1 = train_data_loader.next_one(is_last)\n",
    "support_triples_1, support_negative_triples_1, query_triples_1, negative_triples_1, curr_rel_1 = train_data_loader.next_one(is_last)\n",
    "\n",
    "\n"
   ],
   "metadata": {
    "collapsed": false,
    "ExecuteTime": {
     "end_time": "2023-11-21T00:08:41.419423400Z",
     "start_time": "2023-11-21T00:08:40.173364500Z"
    }
   },
   "id": "dab2cd8b4541d197"
  },
  {
   "cell_type": "markdown",
   "source": [
    "### construct support and query\n",
    "random choose support(相同数量 positive and negative) query(相同数量 positive and negative) according current relation"
   ],
   "metadata": {
    "collapsed": false
   },
   "id": "25d8b6af952337be"
  },
  {
   "cell_type": "code",
   "execution_count": 50,
   "outputs": [],
   "source": [
    "few = 1\n",
    "nq = 3\n",
    "curr_rel_idx = 0\n",
    "all_rels = sorted(list(dataset['train_tasks'].keys()))\n",
    "rel2candidates = dataset['rel2candidates']\n",
    "tasks = dataset['train' + '_tasks']\n",
    "curr_rel = all_rels[curr_rel_idx]\n",
    "curr_rel_idx = curr_rel_idx + 1\n",
    "curr_cand = rel2candidates[curr_rel]  # relation candidate?\n",
    "e1rel_e2 = dataset['e1rel_e2']"
   ],
   "metadata": {
    "collapsed": false,
    "ExecuteTime": {
     "end_time": "2023-11-13T05:59:38.756212400Z",
     "start_time": "2023-11-13T05:59:38.729214600Z"
    }
   },
   "id": "521dc97e02902e6e"
  },
  {
   "cell_type": "code",
   "execution_count": 38,
   "outputs": [],
   "source": [
    "# random choose support and query according current relation\n",
    "curr_tasks = tasks[curr_rel]\n",
    "curr_tasks_idx = np.arange(0, len(curr_tasks), 1)\n",
    "curr_tasks_idx = np.random.choice(curr_tasks_idx, few + nq)\n",
    "support_triples = [curr_tasks[i] for i in curr_tasks_idx[:few]]\n",
    "query_triples = [curr_tasks[i] for i in curr_tasks_idx[few:]]"
   ],
   "metadata": {
    "collapsed": false,
    "ExecuteTime": {
     "end_time": "2023-11-13T05:27:47.083953400Z",
     "start_time": "2023-11-13T05:27:47.070943400Z"
    }
   },
   "id": "3e73504a9d6a2af6"
  },
  {
   "cell_type": "code",
   "execution_count": 84,
   "outputs": [
    {
     "data": {
      "text/plain": "([['concept:academicfield:technology',\n   'concept:academicfieldsuchasacademicfield',\n   'concept:academicfield:design']],\n [['concept:academicfield:technology',\n   'concept:academicfieldsuchasacademicfield',\n   'concept:academicfield:general_education']],\n [['concept:academicfield:science',\n   'concept:academicfieldsuchasacademicfield',\n   'concept:academicfield:philosophy'],\n  ['concept:academicfield:international_business',\n   'concept:academicfieldsuchasacademicfield',\n   'concept:academicfield:business'],\n  ['concept:academicfield:technology',\n   'concept:academicfieldsuchasacademicfield',\n   'concept:academicfield:civil_engineering_degree']],\n [['concept:academicfield:science',\n   'concept:academicfieldsuchasacademicfield',\n   'concept:academicfield:literatures'],\n  ['concept:academicfield:international_business',\n   'concept:academicfieldsuchasacademicfield',\n   'concept:academicfield:church_history'],\n  ['concept:academicfield:technology',\n   'concept:academicfieldsuchasacademicfield',\n   'concept:academicfield:social']])"
     },
     "execution_count": 84,
     "metadata": {},
     "output_type": "execute_result"
    }
   ],
   "source": [
    "# construct support and query negative triples(num same as positive)\n",
    "support_negative_triples = []\n",
    "for triple in support_triples:\n",
    "    e1, rel, e2 = triple\n",
    "    while True:\n",
    "        negative = random.choice(curr_cand)\n",
    "        if (negative not in e1rel_e2[e1 + rel]) \\\n",
    "                and negative != e2:\n",
    "            break\n",
    "    support_negative_triples.append([e1, rel, negative])\n",
    "\n",
    "negative_triples = []\n",
    "for triple in query_triples:\n",
    "    e1, rel, e2 = triple\n",
    "    while True:\n",
    "        negative = random.choice(curr_cand)\n",
    "        if (negative not in e1rel_e2[e1 + rel]) \\\n",
    "                and negative != e2:\n",
    "            break\n",
    "    negative_triples.append([e1, rel, negative])\n",
    "support_triples, support_negative_triples, query_triples, negative_triples"
   ],
   "metadata": {
    "collapsed": false,
    "ExecuteTime": {
     "end_time": "2023-11-13T11:21:22.030424900Z",
     "start_time": "2023-11-13T11:21:21.954419300Z"
    }
   },
   "id": "ba946eb90d916260"
  },
  {
   "cell_type": "code",
   "execution_count": 89,
   "outputs": [],
   "source": [
    "train_task, curr_rel = train_data_loader.next_batch()   # train task consist of batch_size support, support_negative, query, query_negative"
   ],
   "metadata": {
    "collapsed": false,
    "ExecuteTime": {
     "end_time": "2023-11-20T09:50:13.864401400Z",
     "start_time": "2023-11-20T09:50:13.206415200Z"
    }
   },
   "id": "369f000dea658f6e"
  },
  {
   "cell_type": "code",
   "execution_count": 90,
   "outputs": [],
   "source": [
    "support_triples, support_negative_triples, query_triples, negative_triples = train_task # batch_size * num"
   ],
   "metadata": {
    "collapsed": false,
    "ExecuteTime": {
     "end_time": "2023-11-20T09:50:14.945793600Z",
     "start_time": "2023-11-20T09:50:14.274807100Z"
    }
   },
   "id": "4ff77b63738a4cc3"
  },
  {
   "cell_type": "code",
   "execution_count": 95,
   "outputs": [],
   "source": [
    "support_triples[1].append(support_triples[0][0])    # stimulate base class\n",
    "# support_negative_triples[0].append(support_negative_triples[0][0])\n",
    "# query_triples[0].append(query_triples[0][0])\n",
    "# negative_triples[0].append(negative_triples[0][0])\n",
    "# train_task = support_triples, support_negative_triples, query_triples, negative_triples"
   ],
   "metadata": {
    "collapsed": false,
    "ExecuteTime": {
     "end_time": "2023-11-20T09:52:36.945239700Z",
     "start_time": "2023-11-20T09:52:36.318630Z"
    }
   },
   "id": "51e1fa5ee15835a0"
  },
  {
   "cell_type": "code",
   "execution_count": 96,
   "outputs": [
    {
     "data": {
      "text/plain": "([['concept:stateorprovince:new_york_state',\n   'concept:stateorprovinceoforganizationheadquarters',\n   'concept:city:carolina'],\n  ['concept:stateorprovince:new_york_state',\n   'concept:stateorprovinceoforganizationheadquarters',\n   'concept:city:carolina']],\n [['concept:airport:harrisburg_international',\n   'concept:airportincity',\n   'concept:city:harrisburg'],\n  ['concept:stateorprovince:new_york_state',\n   'concept:stateorprovinceoforganizationheadquarters',\n   'concept:city:carolina']])"
     },
     "execution_count": 96,
     "metadata": {},
     "output_type": "execute_result"
    }
   ],
   "source": [
    "support_triples"
   ],
   "metadata": {
    "collapsed": false,
    "ExecuteTime": {
     "end_time": "2023-11-20T09:52:37.953158600Z",
     "start_time": "2023-11-20T09:52:37.358210100Z"
    }
   },
   "id": "bd01f49c0f286413"
  },
  {
   "cell_type": "code",
   "execution_count": 70,
   "outputs": [
    {
     "ename": "ValueError",
     "evalue": "expected sequence of length 2 at dim 1 (got 1)",
     "output_type": "error",
     "traceback": [
      "\u001B[1;31m---------------------------------------------------------------------------\u001B[0m",
      "\u001B[1;31mValueError\u001B[0m                                Traceback (most recent call last)",
      "Cell \u001B[1;32mIn[70], line 8\u001B[0m\n\u001B[0;32m      4\u001B[0m param \u001B[38;5;241m=\u001B[39m {\u001B[38;5;124m'\u001B[39m\u001B[38;5;124mdataset\u001B[39m\u001B[38;5;124m'\u001B[39m: \u001B[38;5;124m'\u001B[39m\u001B[38;5;124mNELL-One\u001B[39m\u001B[38;5;124m'\u001B[39m, \u001B[38;5;124m'\u001B[39m\u001B[38;5;124mdata_path\u001B[39m\u001B[38;5;124m'\u001B[39m: \u001B[38;5;124m'\u001B[39m\u001B[38;5;124m./NELL\u001B[39m\u001B[38;5;124m'\u001B[39m, \u001B[38;5;124m'\u001B[39m\u001B[38;5;124mdata_form\u001B[39m\u001B[38;5;124m'\u001B[39m: \u001B[38;5;124m'\u001B[39m\u001B[38;5;124mPre-Train\u001B[39m\u001B[38;5;124m'\u001B[39m, \u001B[38;5;124m'\u001B[39m\u001B[38;5;124mseed\u001B[39m\u001B[38;5;124m'\u001B[39m: \u001B[38;5;28;01mNone\u001B[39;00m, \u001B[38;5;124m'\u001B[39m\u001B[38;5;124mfew\u001B[39m\u001B[38;5;124m'\u001B[39m: \u001B[38;5;241m1\u001B[39m, \u001B[38;5;124m'\u001B[39m\u001B[38;5;124mnum_query\u001B[39m\u001B[38;5;124m'\u001B[39m: \u001B[38;5;241m3\u001B[39m, \u001B[38;5;124m'\u001B[39m\u001B[38;5;124mmetric\u001B[39m\u001B[38;5;124m'\u001B[39m: \u001B[38;5;124m'\u001B[39m\u001B[38;5;124mMRR\u001B[39m\u001B[38;5;124m'\u001B[39m, \u001B[38;5;124m'\u001B[39m\u001B[38;5;124membed_dim\u001B[39m\u001B[38;5;124m'\u001B[39m: \u001B[38;5;241m100\u001B[39m, \u001B[38;5;124m'\u001B[39m\u001B[38;5;124mbatch_size\u001B[39m\u001B[38;5;124m'\u001B[39m: \u001B[38;5;241m1024\u001B[39m, \u001B[38;5;124m'\u001B[39m\u001B[38;5;124mlearning_rate\u001B[39m\u001B[38;5;124m'\u001B[39m: \u001B[38;5;241m0.001\u001B[39m, \u001B[38;5;124m'\u001B[39m\u001B[38;5;124mearly_stopping_patience\u001B[39m\u001B[38;5;124m'\u001B[39m: \u001B[38;5;241m30\u001B[39m, \u001B[38;5;124m'\u001B[39m\u001B[38;5;124mepoch\u001B[39m\u001B[38;5;124m'\u001B[39m: \u001B[38;5;241m100000\u001B[39m, \u001B[38;5;124m'\u001B[39m\u001B[38;5;124mprint_epoch\u001B[39m\u001B[38;5;124m'\u001B[39m: \u001B[38;5;241m100\u001B[39m, \u001B[38;5;124m'\u001B[39m\u001B[38;5;124meval_epoch\u001B[39m\u001B[38;5;124m'\u001B[39m: \u001B[38;5;241m1000\u001B[39m, \u001B[38;5;124m'\u001B[39m\u001B[38;5;124mcheckpoint_epoch\u001B[39m\u001B[38;5;124m'\u001B[39m: \u001B[38;5;241m1000\u001B[39m,\n\u001B[0;32m      5\u001B[0m                                                                                                                                                     \u001B[38;5;124m'\u001B[39m\u001B[38;5;124mbeta\u001B[39m\u001B[38;5;124m'\u001B[39m: \u001B[38;5;241m5\u001B[39m, \u001B[38;5;124m'\u001B[39m\u001B[38;5;124mmargin\u001B[39m\u001B[38;5;124m'\u001B[39m: \u001B[38;5;241m1\u001B[39m, \u001B[38;5;124m'\u001B[39m\u001B[38;5;124mdropout_p\u001B[39m\u001B[38;5;124m'\u001B[39m: \u001B[38;5;241m0.5\u001B[39m, \u001B[38;5;124m'\u001B[39m\u001B[38;5;124mablation\u001B[39m\u001B[38;5;124m'\u001B[39m: \u001B[38;5;28;01mFalse\u001B[39;00m, \u001B[38;5;124m'\u001B[39m\u001B[38;5;124mdevice\u001B[39m\u001B[38;5;124m'\u001B[39m: torch\u001B[38;5;241m.\u001B[39mdevice(\u001B[38;5;28mtype\u001B[39m\u001B[38;5;241m=\u001B[39m\u001B[38;5;124m'\u001B[39m\u001B[38;5;124mcpu\u001B[39m\u001B[38;5;124m'\u001B[39m), \u001B[38;5;124m'\u001B[39m\u001B[38;5;124mprefix\u001B[39m\u001B[38;5;124m'\u001B[39m: \u001B[38;5;124m'\u001B[39m\u001B[38;5;124mnellone_1shot_pretrain\u001B[39m\u001B[38;5;124m'\u001B[39m, \u001B[38;5;124m'\u001B[39m\u001B[38;5;124mstep\u001B[39m\u001B[38;5;124m'\u001B[39m: \u001B[38;5;124m'\u001B[39m\u001B[38;5;124mtrain\u001B[39m\u001B[38;5;124m'\u001B[39m, \u001B[38;5;124m'\u001B[39m\u001B[38;5;124mlog_dir\u001B[39m\u001B[38;5;124m'\u001B[39m\n\u001B[0;32m      6\u001B[0m  : \u001B[38;5;124m'\u001B[39m\u001B[38;5;124mlog\u001B[39m\u001B[38;5;124m'\u001B[39m, \u001B[38;5;124m'\u001B[39m\u001B[38;5;124mstate_dir\u001B[39m\u001B[38;5;124m'\u001B[39m: \u001B[38;5;124m'\u001B[39m\u001B[38;5;124mstate\u001B[39m\u001B[38;5;124m'\u001B[39m, \u001B[38;5;124m'\u001B[39m\u001B[38;5;124meval_ckpt\u001B[39m\u001B[38;5;124m'\u001B[39m: \u001B[38;5;28;01mNone\u001B[39;00m, \u001B[38;5;124m'\u001B[39m\u001B[38;5;124meval_by_rel\u001B[39m\u001B[38;5;124m'\u001B[39m: \u001B[38;5;28;01mFalse\u001B[39;00m}\n\u001B[0;32m      7\u001B[0m metaR \u001B[38;5;241m=\u001B[39m MetaR(dataset, param)\n\u001B[1;32m----> 8\u001B[0m p_score, n_score \u001B[38;5;241m=\u001B[39m \u001B[43mmetaR\u001B[49m\u001B[43m(\u001B[49m\u001B[43mtrain_task\u001B[49m\u001B[43m,\u001B[49m\u001B[43m \u001B[49m\u001B[38;5;28;43;01mFalse\u001B[39;49;00m\u001B[43m,\u001B[49m\u001B[43m \u001B[49m\u001B[38;5;124;43m'\u001B[39;49m\u001B[38;5;124;43m'\u001B[39;49m\u001B[43m)\u001B[49m\n",
      "File \u001B[1;32mD:\\conda\\envs\\kaggle\\lib\\site-packages\\torch\\nn\\modules\\module.py:1501\u001B[0m, in \u001B[0;36mModule._call_impl\u001B[1;34m(self, *args, **kwargs)\u001B[0m\n\u001B[0;32m   1496\u001B[0m \u001B[38;5;66;03m# If we don't have any hooks, we want to skip the rest of the logic in\u001B[39;00m\n\u001B[0;32m   1497\u001B[0m \u001B[38;5;66;03m# this function, and just call forward.\u001B[39;00m\n\u001B[0;32m   1498\u001B[0m \u001B[38;5;28;01mif\u001B[39;00m \u001B[38;5;129;01mnot\u001B[39;00m (\u001B[38;5;28mself\u001B[39m\u001B[38;5;241m.\u001B[39m_backward_hooks \u001B[38;5;129;01mor\u001B[39;00m \u001B[38;5;28mself\u001B[39m\u001B[38;5;241m.\u001B[39m_backward_pre_hooks \u001B[38;5;129;01mor\u001B[39;00m \u001B[38;5;28mself\u001B[39m\u001B[38;5;241m.\u001B[39m_forward_hooks \u001B[38;5;129;01mor\u001B[39;00m \u001B[38;5;28mself\u001B[39m\u001B[38;5;241m.\u001B[39m_forward_pre_hooks\n\u001B[0;32m   1499\u001B[0m         \u001B[38;5;129;01mor\u001B[39;00m _global_backward_pre_hooks \u001B[38;5;129;01mor\u001B[39;00m _global_backward_hooks\n\u001B[0;32m   1500\u001B[0m         \u001B[38;5;129;01mor\u001B[39;00m _global_forward_hooks \u001B[38;5;129;01mor\u001B[39;00m _global_forward_pre_hooks):\n\u001B[1;32m-> 1501\u001B[0m     \u001B[38;5;28;01mreturn\u001B[39;00m \u001B[43mforward_call\u001B[49m\u001B[43m(\u001B[49m\u001B[38;5;241;43m*\u001B[39;49m\u001B[43margs\u001B[49m\u001B[43m,\u001B[49m\u001B[43m \u001B[49m\u001B[38;5;241;43m*\u001B[39;49m\u001B[38;5;241;43m*\u001B[39;49m\u001B[43mkwargs\u001B[49m\u001B[43m)\u001B[49m\n\u001B[0;32m   1502\u001B[0m \u001B[38;5;66;03m# Do not call functions when jit is used\u001B[39;00m\n\u001B[0;32m   1503\u001B[0m full_backward_hooks, non_full_backward_hooks \u001B[38;5;241m=\u001B[39m [], []\n",
      "File \u001B[1;32m~\\Desktop\\MetaR\\models.py:84\u001B[0m, in \u001B[0;36mMetaR.forward\u001B[1;34m(self, task, iseval, curr_rel)\u001B[0m\n\u001B[0;32m     82\u001B[0m \u001B[38;5;28;01mdef\u001B[39;00m \u001B[38;5;21mforward\u001B[39m(\u001B[38;5;28mself\u001B[39m, task, iseval\u001B[38;5;241m=\u001B[39m\u001B[38;5;28;01mFalse\u001B[39;00m, curr_rel\u001B[38;5;241m=\u001B[39m\u001B[38;5;124m'\u001B[39m\u001B[38;5;124m'\u001B[39m):\n\u001B[0;32m     83\u001B[0m     \u001B[38;5;66;03m# transfer task string into embedding\u001B[39;00m\n\u001B[1;32m---> 84\u001B[0m     support, support_negative, query, negative \u001B[38;5;241m=\u001B[39m [\u001B[38;5;28mself\u001B[39m\u001B[38;5;241m.\u001B[39membedding(t) \u001B[38;5;28;01mfor\u001B[39;00m t \u001B[38;5;129;01min\u001B[39;00m task]\n\u001B[0;32m     86\u001B[0m     few \u001B[38;5;241m=\u001B[39m support\u001B[38;5;241m.\u001B[39mshape[\u001B[38;5;241m1\u001B[39m]  \u001B[38;5;66;03m# num of few\u001B[39;00m\n\u001B[0;32m     87\u001B[0m     num_sn \u001B[38;5;241m=\u001B[39m support_negative\u001B[38;5;241m.\u001B[39mshape[\u001B[38;5;241m1\u001B[39m]  \u001B[38;5;66;03m# num of support negative\u001B[39;00m\n",
      "File \u001B[1;32m~\\Desktop\\MetaR\\models.py:84\u001B[0m, in \u001B[0;36m<listcomp>\u001B[1;34m(.0)\u001B[0m\n\u001B[0;32m     82\u001B[0m \u001B[38;5;28;01mdef\u001B[39;00m \u001B[38;5;21mforward\u001B[39m(\u001B[38;5;28mself\u001B[39m, task, iseval\u001B[38;5;241m=\u001B[39m\u001B[38;5;28;01mFalse\u001B[39;00m, curr_rel\u001B[38;5;241m=\u001B[39m\u001B[38;5;124m'\u001B[39m\u001B[38;5;124m'\u001B[39m):\n\u001B[0;32m     83\u001B[0m     \u001B[38;5;66;03m# transfer task string into embedding\u001B[39;00m\n\u001B[1;32m---> 84\u001B[0m     support, support_negative, query, negative \u001B[38;5;241m=\u001B[39m [\u001B[38;5;28;43mself\u001B[39;49m\u001B[38;5;241;43m.\u001B[39;49m\u001B[43membedding\u001B[49m\u001B[43m(\u001B[49m\u001B[43mt\u001B[49m\u001B[43m)\u001B[49m \u001B[38;5;28;01mfor\u001B[39;00m t \u001B[38;5;129;01min\u001B[39;00m task]\n\u001B[0;32m     86\u001B[0m     few \u001B[38;5;241m=\u001B[39m support\u001B[38;5;241m.\u001B[39mshape[\u001B[38;5;241m1\u001B[39m]  \u001B[38;5;66;03m# num of few\u001B[39;00m\n\u001B[0;32m     87\u001B[0m     num_sn \u001B[38;5;241m=\u001B[39m support_negative\u001B[38;5;241m.\u001B[39mshape[\u001B[38;5;241m1\u001B[39m]  \u001B[38;5;66;03m# num of support negative\u001B[39;00m\n",
      "File \u001B[1;32mD:\\conda\\envs\\kaggle\\lib\\site-packages\\torch\\nn\\modules\\module.py:1501\u001B[0m, in \u001B[0;36mModule._call_impl\u001B[1;34m(self, *args, **kwargs)\u001B[0m\n\u001B[0;32m   1496\u001B[0m \u001B[38;5;66;03m# If we don't have any hooks, we want to skip the rest of the logic in\u001B[39;00m\n\u001B[0;32m   1497\u001B[0m \u001B[38;5;66;03m# this function, and just call forward.\u001B[39;00m\n\u001B[0;32m   1498\u001B[0m \u001B[38;5;28;01mif\u001B[39;00m \u001B[38;5;129;01mnot\u001B[39;00m (\u001B[38;5;28mself\u001B[39m\u001B[38;5;241m.\u001B[39m_backward_hooks \u001B[38;5;129;01mor\u001B[39;00m \u001B[38;5;28mself\u001B[39m\u001B[38;5;241m.\u001B[39m_backward_pre_hooks \u001B[38;5;129;01mor\u001B[39;00m \u001B[38;5;28mself\u001B[39m\u001B[38;5;241m.\u001B[39m_forward_hooks \u001B[38;5;129;01mor\u001B[39;00m \u001B[38;5;28mself\u001B[39m\u001B[38;5;241m.\u001B[39m_forward_pre_hooks\n\u001B[0;32m   1499\u001B[0m         \u001B[38;5;129;01mor\u001B[39;00m _global_backward_pre_hooks \u001B[38;5;129;01mor\u001B[39;00m _global_backward_hooks\n\u001B[0;32m   1500\u001B[0m         \u001B[38;5;129;01mor\u001B[39;00m _global_forward_hooks \u001B[38;5;129;01mor\u001B[39;00m _global_forward_pre_hooks):\n\u001B[1;32m-> 1501\u001B[0m     \u001B[38;5;28;01mreturn\u001B[39;00m \u001B[43mforward_call\u001B[49m\u001B[43m(\u001B[49m\u001B[38;5;241;43m*\u001B[39;49m\u001B[43margs\u001B[49m\u001B[43m,\u001B[49m\u001B[43m \u001B[49m\u001B[38;5;241;43m*\u001B[39;49m\u001B[38;5;241;43m*\u001B[39;49m\u001B[43mkwargs\u001B[49m\u001B[43m)\u001B[49m\n\u001B[0;32m   1502\u001B[0m \u001B[38;5;66;03m# Do not call functions when jit is used\u001B[39;00m\n\u001B[0;32m   1503\u001B[0m full_backward_hooks, non_full_backward_hooks \u001B[38;5;241m=\u001B[39m [], []\n",
      "File \u001B[1;32m~\\Desktop\\MetaR\\embedding.py:23\u001B[0m, in \u001B[0;36mEmbedding.forward\u001B[1;34m(self, triples)\u001B[0m\n\u001B[0;32m     21\u001B[0m \u001B[38;5;28;01mdef\u001B[39;00m \u001B[38;5;21mforward\u001B[39m(\u001B[38;5;28mself\u001B[39m, triples):\n\u001B[0;32m     22\u001B[0m     idx \u001B[38;5;241m=\u001B[39m [[[\u001B[38;5;28mself\u001B[39m\u001B[38;5;241m.\u001B[39ment2id[t[\u001B[38;5;241m0\u001B[39m]], \u001B[38;5;28mself\u001B[39m\u001B[38;5;241m.\u001B[39ment2id[t[\u001B[38;5;241m2\u001B[39m]]] \u001B[38;5;28;01mfor\u001B[39;00m t \u001B[38;5;129;01min\u001B[39;00m batch] \u001B[38;5;28;01mfor\u001B[39;00m batch \u001B[38;5;129;01min\u001B[39;00m triples]\n\u001B[1;32m---> 23\u001B[0m     idx \u001B[38;5;241m=\u001B[39m \u001B[43mtorch\u001B[49m\u001B[38;5;241;43m.\u001B[39;49m\u001B[43mLongTensor\u001B[49m\u001B[43m(\u001B[49m\u001B[43midx\u001B[49m\u001B[43m)\u001B[49m\u001B[38;5;241m.\u001B[39mto(\u001B[38;5;28mself\u001B[39m\u001B[38;5;241m.\u001B[39mdevice)\n\u001B[0;32m     24\u001B[0m     \u001B[38;5;28;01mreturn\u001B[39;00m \u001B[38;5;28mself\u001B[39m\u001B[38;5;241m.\u001B[39membedding(idx)\n",
      "\u001B[1;31mValueError\u001B[0m: expected sequence of length 2 at dim 1 (got 1)"
     ]
    }
   ],
   "source": [
    "from models import MetaR\n",
    "\n",
    "# test shape\n",
    "param = {'dataset': 'NELL-One', 'data_path': './NELL', 'data_form': 'Pre-Train', 'seed': None, 'few': 1, 'num_query': 3, 'metric': 'MRR', 'embed_dim': 100, 'batch_size': 1024, 'learning_rate': 0.001, 'early_stopping_patience': 30, 'epoch': 100000, 'print_epoch': 100, 'eval_epoch': 1000, 'checkpoint_epoch': 1000,\n",
    "                                                                                                                                                    'beta': 5, 'margin': 1, 'dropout_p': 0.5, 'ablation': False, 'device': torch.device(type='cpu'), 'prefix': 'nellone_1shot_pretrain', 'step': 'train', 'log_dir'\n",
    " : 'log', 'state_dir': 'state', 'eval_ckpt': None, 'eval_by_rel': False}\n",
    "metaR = MetaR(dataset, param)"
   ],
   "metadata": {
    "collapsed": false,
    "ExecuteTime": {
     "end_time": "2023-11-20T07:40:26.482181100Z",
     "start_time": "2023-11-20T07:40:25.588894200Z"
    }
   },
   "id": "41f2e65451f1308f"
  },
  {
   "cell_type": "code",
   "execution_count": 98,
   "outputs": [
    {
     "data": {
      "text/plain": "torch.Size([2, 2, 2, 100])"
     },
     "execution_count": 98,
     "metadata": {},
     "output_type": "execute_result"
    }
   ],
   "source": [],
   "metadata": {
    "collapsed": false,
    "ExecuteTime": {
     "end_time": "2023-11-20T09:53:40.756001600Z",
     "start_time": "2023-11-20T09:53:39.934107400Z"
    }
   },
   "id": "e1d2987c2acf647c"
  },
  {
   "cell_type": "code",
   "execution_count": null,
   "outputs": [],
   "source": [],
   "metadata": {
    "collapsed": false
   },
   "id": "79e1e3e788c9b7dd"
  },
  {
   "cell_type": "code",
   "execution_count": null,
   "outputs": [],
   "source": [],
   "metadata": {
    "collapsed": false
   },
   "id": "cef41c07cd8872f5"
  },
  {
   "cell_type": "code",
   "execution_count": null,
   "outputs": [],
   "source": [],
   "metadata": {
    "collapsed": false
   },
   "id": "964c0a7e42c26832"
  },
  {
   "cell_type": "code",
   "execution_count": null,
   "outputs": [],
   "source": [],
   "metadata": {
    "collapsed": false
   },
   "id": "a4676bf760ba0662"
  },
  {
   "cell_type": "code",
   "execution_count": null,
   "outputs": [],
   "source": [],
   "metadata": {
    "collapsed": false
   },
   "id": "30f4737e5b6e832a"
  },
  {
   "cell_type": "markdown",
   "source": [
    "## MetaR train"
   ],
   "metadata": {
    "collapsed": false
   },
   "id": "fc2366e93fb9b9a1"
  },
  {
   "cell_type": "markdown",
   "source": [
    "### embedding entity\n",
    "get embeddings according to entity id "
   ],
   "metadata": {
    "collapsed": false
   },
   "id": "38ae403f2a29760e"
  },
  {
   "cell_type": "code",
   "execution_count": 98,
   "outputs": [
    {
     "data": {
      "text/plain": "(torch.Size([8, 1, 2, 100]),\n torch.Size([8, 3, 2, 100]),\n torch.Size([8, 1, 2, 100]))"
     },
     "execution_count": 98,
     "metadata": {},
     "output_type": "execute_result"
    }
   ],
   "source": [
    "from embedding import Embedding\n",
    "\n",
    "\n",
    "parameter = {'device': 'cpu', 'embed_dim': 100, 'data_form': 'Pre-Train'}\n",
    "embedding = Embedding(dataset, parameter)\n",
    "support, support_negative, query, negative = [embedding(t) for t in train_task]\n",
    "\n",
    "support.shape, query.shape, support_negative.shape  # shape (batch_size, num, e1_e2, embedding_shape)"
   ],
   "metadata": {
    "collapsed": false,
    "ExecuteTime": {
     "end_time": "2023-11-13T11:32:30.755723700Z",
     "start_time": "2023-11-13T11:32:30.680729300Z"
    }
   },
   "id": "975ef0fba40a55a1"
  },
  {
   "cell_type": "markdown",
   "source": [
    "### relation learner\n",
    "![](imgs/img.png)\n",
    "![](imgs/img_4.png)"
   ],
   "metadata": {
    "collapsed": false
   },
   "id": "b6d516b8032ef8a7"
  },
  {
   "cell_type": "code",
   "execution_count": 110,
   "outputs": [
    {
     "data": {
      "text/plain": "(torch.Size([8, 1, 1, 100]), torch.Size([8, 2, 1, 100]))"
     },
     "execution_count": 110,
     "metadata": {},
     "output_type": "execute_result"
    }
   ],
   "source": [
    "from models import RelationMetaLearner\n",
    "\n",
    "# learn relation(FC)\n",
    "relation_learner = RelationMetaLearner(1, embed_size=100, num_hidden1=500, num_hidden2=200, out_size=100, dropout_p=0.5)\n",
    "rel = relation_learner(support)    # FC\n",
    "few = 1\n",
    "num_sn = 1\n",
    "rel_s = rel.expand(-1, few+num_sn, -1, -1)\n",
    "rel.shape, rel_s.shape"
   ],
   "metadata": {
    "collapsed": false,
    "ExecuteTime": {
     "end_time": "2023-11-13T12:25:57.513641400Z",
     "start_time": "2023-11-13T12:25:57.456649Z"
    }
   },
   "id": "38c27d083afc43fe"
  },
  {
   "cell_type": "markdown",
   "source": [
    "### gradient descent in support \n",
    "![](imgs/img_1.png)\n",
    "![](imgs/img_2.png)\n",
    "![](imgs/img_3.png)"
   ],
   "metadata": {
    "collapsed": false
   },
   "id": "3fedf8f1c4bc7478"
  },
  {
   "cell_type": "code",
   "execution_count": 121,
   "outputs": [
    {
     "data": {
      "text/plain": "torch.Size([8, 2, 1, 100])"
     },
     "execution_count": 121,
     "metadata": {},
     "output_type": "execute_result"
    }
   ],
   "source": [
    "def split_concat(positive, negative):\n",
    "    pos_neg_e1 = torch.cat([positive[:, :, 0, :],\n",
    "                            negative[:, :, 0, :]], 1).unsqueeze(2)\n",
    "    pos_neg_e2 = torch.cat([positive[:, :, 1, :],\n",
    "                            negative[:, :, 1, :]], 1).unsqueeze(2)\n",
    "    return pos_neg_e1, pos_neg_e2\n",
    "sup_neg_e1, sup_neg_e2 = split_concat(support, support_negative)\n",
    "sup_neg_e1.shape\n",
    "score = -torch.norm(sup_neg_e1 + rel_s - sup_neg_e2, 2, -1).squeeze(2)\n",
    "score.shape"
   ],
   "metadata": {
    "collapsed": false,
    "ExecuteTime": {
     "end_time": "2023-11-13T12:52:45.893690500Z",
     "start_time": "2023-11-13T12:52:45.168683300Z"
    }
   },
   "id": "4a8456c98bcc777f"
  },
  {
   "cell_type": "code",
   "execution_count": 20,
   "outputs": [
    {
     "data": {
      "text/plain": "tensor(0.)"
     },
     "execution_count": 20,
     "metadata": {},
     "output_type": "execute_result"
    }
   ],
   "source": [
    "loss_func = nn.MarginRankingLoss(0)\n",
    "loss_func(torch.ones(1024, 1), torch.ones(1024, 1), torch.ones(1))\n"
   ],
   "metadata": {
    "collapsed": false,
    "ExecuteTime": {
     "end_time": "2023-11-20T06:11:43.896832100Z",
     "start_time": "2023-11-20T06:11:43.535843200Z"
    }
   },
   "id": "7428702aef0c7c83"
  },
  {
   "cell_type": "code",
   "execution_count": 21,
   "outputs": [
    {
     "data": {
      "text/plain": "tensor([[1.],\n        [1.],\n        [1.],\n        ...,\n        [1.],\n        [1.],\n        [1.]])"
     },
     "execution_count": 21,
     "metadata": {},
     "output_type": "execute_result"
    }
   ],
   "source": [
    "torch.ones(1024, 1)"
   ],
   "metadata": {
    "collapsed": false,
    "ExecuteTime": {
     "end_time": "2023-11-20T06:14:15.668040300Z",
     "start_time": "2023-11-20T06:14:15.348665900Z"
    }
   },
   "id": "d472ff1f6b52bd42"
  }
 ],
 "metadata": {
  "kernelspec": {
   "display_name": "Python 3",
   "language": "python",
   "name": "python3"
  },
  "language_info": {
   "codemirror_mode": {
    "name": "ipython",
    "version": 2
   },
   "file_extension": ".py",
   "mimetype": "text/x-python",
   "name": "python",
   "nbconvert_exporter": "python",
   "pygments_lexer": "ipython2",
   "version": "2.7.6"
  }
 },
 "nbformat": 4,
 "nbformat_minor": 5
}
