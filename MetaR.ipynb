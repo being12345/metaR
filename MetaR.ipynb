{
 "cells": [
  {
   "cell_type": "code",
   "execution_count": 1,
   "outputs": [],
   "source": [
    "# python\n",
    "import os\n",
    "import math\n",
    "import csv\n",
    "\n",
    "# random\n",
    "import random\n",
    "#data analysis libraries\n",
    "import numpy as np\n",
    "import pandas as pd\n",
    "\n",
    "# machine learning\n",
    "import sklearn\n",
    "\n",
    "# deep learning\n",
    "import torch\n",
    "import torch.nn as nn\n",
    "from torch.utils.data import Dataset, DataLoader, random_split\n",
    "import torch.nn.functional as F\n",
    "import pytorch_lightning as pl\n",
    "\n",
    "#d2l\n",
    "import d2l.torch as d2l\n",
    "\n",
    "# For plotting learning curve\n",
    "from torch.utils.tensorboard import SummaryWriter\n",
    "\n",
    "\n",
    "#visualization libraries\n",
    "import matplotlib.pyplot as plt\n",
    "import seaborn as sns\n",
    "%matplotlib inline\n",
    "\n",
    "# For Progress Bar\n",
    "from tqdm import tqdm\n",
    "\n",
    "#ignore warnings\n",
    "import warnings\n",
    "\n",
    "warnings.filterwarnings('ignore')\n",
    "\n",
    "# auto load change\n",
    "%load_ext autoreload\n",
    "%autoreload 2"
   ],
   "metadata": {
    "collapsed": false,
    "ExecuteTime": {
     "end_time": "2023-12-17T05:44:46.753811100Z",
     "start_time": "2023-12-17T05:44:37.452067100Z"
    }
   },
   "id": "426dd8e824d1a57a"
  },
  {
   "cell_type": "code",
   "execution_count": null,
   "outputs": [],
   "source": [
    "import torch \n",
    "lin1 = nn.Linear(2, 5)\n",
    "lin2 = nn.Linear(2, 5)"
   ],
   "metadata": {
    "collapsed": false
   },
   "id": "3ac7dfe018381035"
  },
  {
   "cell_type": "code",
   "execution_count": 5,
   "outputs": [
    {
     "data": {
      "text/plain": "tensor([1.3361, 0.5394], grad_fn=<EmbeddingBackward0>)"
     },
     "execution_count": 5,
     "metadata": {},
     "output_type": "execute_result"
    }
   ],
   "source": [
    "emb = nn.Embedding(50, 2)\n",
    "x = emb(torch.tensor(2))\n",
    "y1 = lin1(x)\n",
    "y2 = lin2(x)"
   ],
   "metadata": {
    "collapsed": false,
    "ExecuteTime": {
     "end_time": "2023-12-17T05:48:52.371902700Z",
     "start_time": "2023-12-17T05:48:51.509836200Z"
    }
   },
   "id": "2f5b0a4862c8f289"
  },
  {
   "cell_type": "code",
   "execution_count": 8,
   "outputs": [],
   "source": [
    "import argparse\n",
    "from network.contrastVAE import ContrastVAE\n",
    "\n",
    "parser = argparse.ArgumentParser()\n",
    "# model\n",
    "parser.add_argument(\"--hidden_size\", type=int, default=200, help=\"hidden size of transformer model\")\n",
    "parser.add_argument(\"--num_hidden_layers\", type=int, default=1, help=\"number of layers\")\n",
    "parser.add_argument('--num_attention_heads', default=4, type=int)\n",
    "parser.add_argument('--hidden_act', default=\"gelu\", type=str)  # gelu relu\n",
    "parser.add_argument(\"--attention_probs_dropout_prob\", type=float, default=0.0, help=\"attention dropout p\")\n",
    "parser.add_argument(\"--hidden_dropout_prob\", type=float, default=0.3, help=\"hidden dropout p\")\n",
    "parser.add_argument(\"--initializer_range\", type=float, default=0.02)\n",
    "parser.add_argument('--max_seq_length', default=1, type=int)\n",
    "# model variants\n",
    "parser.add_argument(\"--reparam_dropout_rate\", type=float, default=0.2,\n",
    "                    help=\"dropout rate for reparameterization dropout\")\n",
    "# contrastive loss\n",
    "parser.add_argument('--temperature', type=float, default=0.5)\n",
    "# KL annealing args\n",
    "parser.add_argument('--anneal_cap', type=float, default=0.3)\n",
    "parser.add_argument('--total_annealing_step', type=int, default=10000)\n",
    "\n",
    "args = parser.parse_args(\"\")\n",
    "model = ContrastVAE(args=args)\n",
    "relation = torch.ones(1, 1, 200)  # b * max_seq * emb\n",
    "\n",
    "reconstructed_seq1, reconstructed_seq2, mu1, mu2, log_var1, log_var2, z1, z2 = model(relation)"
   ],
   "metadata": {
    "collapsed": false,
    "ExecuteTime": {
     "end_time": "2023-12-12T04:12:24.642005500Z",
     "start_time": "2023-12-12T04:12:23.539315100Z"
    }
   },
   "id": "2f8b7516c9654104"
  },
  {
   "cell_type": "code",
   "execution_count": 9,
   "outputs": [],
   "source": [
    "from cvaeutils import ContrastVAELoss\n",
    "loss = ContrastVAELoss(args)"
   ],
   "metadata": {
    "collapsed": false,
    "ExecuteTime": {
     "end_time": "2023-12-12T04:12:26.507336700Z",
     "start_time": "2023-12-12T04:12:25.757641400Z"
    }
   },
   "id": "3d24d7c913559911"
  },
  {
   "cell_type": "code",
   "execution_count": 10,
   "outputs": [],
   "source": [
    "kld_loss1 = torch.mean(-0.5 * torch.sum(1 + log_var1 - mu1 ** 2 - log_var1.exp(), dim=-1))\n",
    "kld_loss2 = torch.mean(-0.5 * torch.sum(1 + log_var2 - mu2 ** 2 - log_var2.exp(), dim=-1))\n"
   ],
   "metadata": {
    "collapsed": false,
    "ExecuteTime": {
     "end_time": "2023-12-12T04:12:27.837948Z",
     "start_time": "2023-12-12T04:12:27.039678300Z"
    }
   },
   "id": "445a79ea376ee354"
  },
  {
   "cell_type": "code",
   "execution_count": 20,
   "outputs": [],
   "source": [
    "user_representation1 = torch.sum(z1, dim=1)\n",
    "user_representation2 = torch.sum(z2, dim=1)\n",
    "\n",
    "contrastive_loss = loss.cl_criterion(user_representation1, user_representation2)"
   ],
   "metadata": {
    "collapsed": false,
    "ExecuteTime": {
     "end_time": "2023-12-12T04:54:30.056393700Z",
     "start_time": "2023-12-12T04:54:29.651681400Z"
    }
   },
   "id": "4d6a83b5c3ad4e0c"
  },
  {
   "cell_type": "code",
   "execution_count": 21,
   "outputs": [
    {
     "data": {
      "text/plain": "tensor(0., grad_fn=<NllLossBackward0>)"
     },
     "execution_count": 21,
     "metadata": {},
     "output_type": "execute_result"
    }
   ],
   "source": [
    "contrastive_loss"
   ],
   "metadata": {
    "collapsed": false,
    "ExecuteTime": {
     "end_time": "2023-12-12T04:54:30.954047400Z",
     "start_time": "2023-12-12T04:54:30.505923Z"
    }
   },
   "id": "a1645216c3386bea"
  },
  {
   "cell_type": "code",
   "execution_count": 18,
   "outputs": [
    {
     "data": {
      "text/plain": "torch.Size([1, 200])"
     },
     "execution_count": 18,
     "metadata": {},
     "output_type": "execute_result"
    }
   ],
   "source": [
    "torch.sum(z1, dim=1).shape"
   ],
   "metadata": {
    "collapsed": false,
    "ExecuteTime": {
     "end_time": "2023-12-12T04:52:06.188570500Z",
     "start_time": "2023-12-12T04:52:05.432047200Z"
    }
   },
   "id": "59be317e5f8fbe94"
  },
  {
   "cell_type": "code",
   "execution_count": 19,
   "outputs": [
    {
     "data": {
      "text/plain": "torch.Size([1, 1, 200])"
     },
     "execution_count": 19,
     "metadata": {},
     "output_type": "execute_result"
    }
   ],
   "source": [
    "z1.shape"
   ],
   "metadata": {
    "collapsed": false,
    "ExecuteTime": {
     "end_time": "2023-12-12T04:52:15.799940100Z",
     "start_time": "2023-12-12T04:52:15.059646Z"
    }
   },
   "id": "8678960baeb0db2c"
  },
  {
   "cell_type": "markdown",
   "source": [
    "## Improvement\n",
    "+ use parameter instead of hard-code for **base class and task** settings\n",
    "+ metaR `batchnorm1d` is canceled by me"
   ],
   "metadata": {
    "collapsed": false
   },
   "id": "4052c26466f5867"
  },
  {
   "cell_type": "markdown",
   "source": [
    "## Dataset set up\n",
    "+ NELL one: 30 base classes, 21 novel classes(3 way 5 shot 7 sessions)"
   ],
   "metadata": {
    "collapsed": false
   },
   "id": "14fbfdefbf2f1a16"
  },
  {
   "cell_type": "markdown",
   "source": [
    "## Dataset and DataLoader\n",
    "+ 基于 base class or novel class 数量构建 train_task.\n",
    "use `next_batch` to get train_task shape: `(4, batch_size, num)`\n",
    "+ every epoch will get same relations(`self.curr_rel_idx` will ensure this)\n",
    "### construct support and query\n",
    "random choose support(相同数量 positive and negative) query(相同数量 positive and negative) according to current relation\n",
    "+ support query shape: `(batch_size, num, 2(e1_e2), embedding_shape)`"
   ],
   "metadata": {
    "collapsed": false
   },
   "id": "a51f0a0f1339d505"
  },
  {
   "cell_type": "code",
   "execution_count": null,
   "outputs": [],
   "source": [],
   "metadata": {
    "collapsed": false
   },
   "id": "30f4737e5b6e832a"
  },
  {
   "cell_type": "markdown",
   "source": [
    "## MetaR train"
   ],
   "metadata": {
    "collapsed": false
   },
   "id": "fc2366e93fb9b9a1"
  },
  {
   "cell_type": "markdown",
   "source": [
    "### embedding entity\n",
    "get embeddings according to entity id "
   ],
   "metadata": {
    "collapsed": false
   },
   "id": "38ae403f2a29760e"
  },
  {
   "cell_type": "markdown",
   "source": [
    "### relation learner\n",
    "![](imgs/img.png)\n",
    "![](imgs/img_4.png)"
   ],
   "metadata": {
    "collapsed": false
   },
   "id": "b6d516b8032ef8a7"
  },
  {
   "cell_type": "markdown",
   "source": [
    "### gradient descent in support \n",
    "![](imgs/img_1.png)\n",
    "![](imgs/img_2.png)\n",
    "![](imgs/img_3.png)"
   ],
   "metadata": {
    "collapsed": false
   },
   "id": "3fedf8f1c4bc7478"
  },
  {
   "cell_type": "markdown",
   "source": [
    "## eval model\n",
    "+ loop all triples in eval \n",
    "+ get one query and support per time\n",
    "+ predict rank\n",
    "\n",
    "+ If relation is same?\n",
    "\n",
    "+ self.curr_tri_idx filter by relation(cache past relations)"
   ],
   "metadata": {
    "collapsed": false
   },
   "id": "cda5a46198657b96"
  },
  {
   "cell_type": "code",
   "execution_count": 2,
   "outputs": [
    {
     "name": "stdout",
     "output_type": "stream",
     "text": [
      "loading train_tasks ... ...\n",
      "loading test_tasks ... ...\n",
      "loading dev_tasks ... ...\n",
      "loading rel2candidates ... ...\n",
      "loading e1rel_e2 ... ...\n",
      "loading ent2id ... ...\n"
     ]
    }
   ],
   "source": [
    "# TODO: simplify it into a function\n",
    "import json\n",
    "import numpy as np\n",
    "tail = ''\n",
    "data_dir = {\n",
    "    'train_tasks_in_train': './NELL/train_tasks_in_train.json',\n",
    "    'train_tasks': './NELL/continual_train_tasks.json',\n",
    "    'test_tasks': './NELL/test_tasks.json',\n",
    "    'dev_tasks': './NELL/continual_dev_tasks.json',\n",
    "\n",
    "    'rel2candidates_in_train': './NELL/rel2candidates_in_train.json',\n",
    "    'rel2candidates': './NELL/rel2candidates.json',\n",
    "\n",
    "    'e1rel_e2_in_train': './NELL/e1rel_e2_in_train.json',\n",
    "    'e1rel_e2': './NELL/e1rel_e2.json',\n",
    "\n",
    "    'ent2ids': './NELL/ent2ids',\n",
    "    'ent2vec': './NELL/ent2vec.npy',\n",
    "}\n",
    "dataset = dict()\n",
    "print(\"loading train_tasks{} ... ...\".format(tail))\n",
    "dataset['train_tasks'] = json.load(open(data_dir['train_tasks' + tail]))\n",
    "print(\"loading test_tasks ... ...\")\n",
    "dataset['test_tasks'] = json.load(open(data_dir['test_tasks']))\n",
    "print(\"loading dev_tasks ... ...\")\n",
    "dataset['dev_tasks'] = json.load(open(data_dir['dev_tasks']))\n",
    "print(\"loading rel2candidates{} ... ...\".format(tail))\n",
    "dataset['rel2candidates'] = json.load(open(data_dir['rel2candidates' + tail]))\n",
    "print(\"loading e1rel_e2{} ... ...\".format(tail))\n",
    "dataset['e1rel_e2'] = json.load(open(data_dir['e1rel_e2' + tail]))\n",
    "print(\"loading ent2id ... ...\")\n",
    "dataset['ent2id'] = json.load(open(data_dir['ent2ids']))\n",
    "dataset['ent2emb'] = np.load(data_dir['ent2vec'])\n",
    "from data_loader import DataLoader\n",
    "params = {'few': 1, 'num_query': 3, 'batch_size': 16, 'base_classes_few': 10, 'base_classes_num_query': 30, 'base_classes_relation': 30}\n",
    "train_data_loader = DataLoader(dataset, params, step='train')\n",
    "dev_data_loader = DataLoader(dataset, params, step='dev')\n",
    "test_data_loader = DataLoader(dataset, params, step='test')\n",
    "data_loaders = [train_data_loader, dev_data_loader, test_data_loader]"
   ],
   "metadata": {
    "collapsed": false,
    "ExecuteTime": {
     "end_time": "2023-12-04T05:15:23.349662Z",
     "start_time": "2023-12-04T05:15:20.981656800Z"
    }
   },
   "id": "2916022e7b128402"
  },
  {
   "cell_type": "code",
   "execution_count": 4,
   "outputs": [],
   "source": [
    "base_task, curr_rel = train_data_loader.next_batch(False, True)\n",
    "train_task, curr_rel = train_data_loader.next_batch(False, False)\n"
   ],
   "metadata": {
    "collapsed": false,
    "ExecuteTime": {
     "end_time": "2023-12-04T05:17:32.239394500Z",
     "start_time": "2023-12-04T05:17:31.882382900Z"
    }
   },
   "id": "2b61fcc19126d6"
  },
  {
   "cell_type": "code",
   "execution_count": 5,
   "outputs": [
    {
     "data": {
      "text/plain": "tensor([ 0,  1,  2,  3,  4,  5,  6,  7,  8,  9, 10, 11, 12, 13, 14, 15, 16, 17,\n        18, 19, 20, 21, 22, 23, 24, 25, 26, 27, 28, 29])"
     },
     "execution_count": 5,
     "metadata": {},
     "output_type": "execute_result"
    }
   ],
   "source": [
    "\n",
    "mask"
   ],
   "metadata": {
    "collapsed": false,
    "ExecuteTime": {
     "end_time": "2023-12-04T05:22:33.255906200Z",
     "start_time": "2023-12-04T05:22:32.860286500Z"
    }
   },
   "id": "c9a05718b7ec29a4"
  },
  {
   "cell_type": "code",
   "execution_count": 7,
   "outputs": [],
   "source": [
    "idx = mask  # 1. \n",
    "for i in mask:  # batch_size 1500\n",
    "        for j, cur in enumerate(train_task):\n",
    "            train_task[j] = train_task[j] + (cur[i.item()], )"
   ],
   "metadata": {
    "collapsed": false,
    "ExecuteTime": {
     "end_time": "2023-12-04T05:24:28.791750500Z",
     "start_time": "2023-12-04T05:24:28.453168200Z"
    }
   },
   "id": "fcd1d738c324d337"
  },
  {
   "cell_type": "code",
   "execution_count": 10,
   "outputs": [
    {
     "data": {
      "text/plain": "46"
     },
     "execution_count": 10,
     "metadata": {},
     "output_type": "execute_result"
    }
   ],
   "source": [
    "len(train_task[0])"
   ],
   "metadata": {
    "collapsed": false,
    "ExecuteTime": {
     "end_time": "2023-12-04T05:24:49.746989700Z",
     "start_time": "2023-12-04T05:24:49.372758300Z"
    }
   },
   "id": "616e933c27243c00"
  },
  {
   "cell_type": "code",
   "execution_count": 23,
   "outputs": [
    {
     "name": "stdout",
     "output_type": "stream",
     "text": [
      "0\n",
      "1\n",
      "2\n",
      "3\n",
      "4\n",
      "5\n",
      "6\n",
      "7\n",
      "8\n",
      "9\n",
      "10\n",
      "11\n",
      "12\n",
      "13\n",
      "14\n",
      "15\n",
      "16\n",
      "17\n",
      "18\n",
      "19\n",
      "20\n",
      "21\n",
      "22\n",
      "23\n",
      "24\n",
      "25\n",
      "26\n",
      "27\n",
      "28\n",
      "29\n"
     ]
    }
   ],
   "source": [
    "for i in mask:\n",
    "    print(i.item())"
   ],
   "metadata": {
    "collapsed": false,
    "ExecuteTime": {
     "end_time": "2023-12-03T11:58:49.909252700Z",
     "start_time": "2023-12-03T11:58:49.561274100Z"
    }
   },
   "id": "f2d31a37724bf5b5"
  },
  {
   "cell_type": "code",
   "execution_count": 20,
   "outputs": [
    {
     "data": {
      "text/plain": "[['concept:academicfield:science',\n  'concept:academicfieldsuchasacademicfield',\n  'concept:academicfield:industrial_engineering'],\n ['concept:academicfield:technology',\n  'concept:academicfieldsuchasacademicfield',\n  'concept:academicfield:engineer'],\n ['concept:academicfield:science',\n  'concept:academicfieldsuchasacademicfield',\n  'concept:academicfield:materials_science'],\n ['concept:academicfield:technology',\n  'concept:academicfieldsuchasacademicfield',\n  'concept:academicfield:mathematics'],\n ['concept:academicfield:technology',\n  'concept:academicfieldsuchasacademicfield',\n  'concept:academicfield:geophysics'],\n ['concept:academicfield:science',\n  'concept:academicfieldsuchasacademicfield',\n  'concept:academicfield:international_studies'],\n ['concept:academicfield:technology',\n  'concept:academicfieldsuchasacademicfield',\n  'concept:academicfield:biology'],\n ['concept:academicfield:technology',\n  'concept:academicfieldsuchasacademicfield',\n  'concept:academicfield:industrial_engineering'],\n ['concept:academicfield:technology',\n  'concept:academicfieldsuchasacademicfield',\n  'concept:academicfield:finance'],\n ['concept:academicfield:sciences',\n  'concept:academicfieldsuchasacademicfield',\n  'concept:academicfield:humanities']]"
     },
     "execution_count": 20,
     "metadata": {},
     "output_type": "execute_result"
    }
   ],
   "source": [
    "train_task[0][0]"
   ],
   "metadata": {
    "collapsed": false,
    "ExecuteTime": {
     "end_time": "2023-12-03T11:58:14.538739700Z",
     "start_time": "2023-12-03T11:58:14.183564Z"
    }
   },
   "id": "e552849b6a3adf65"
  },
  {
   "cell_type": "code",
   "execution_count": 8,
   "outputs": [],
   "source": [
    "eval_triples = []\n",
    "all_rels = sorted(list(dataset['dev_tasks'].keys()))\n",
    "for rel in all_rels:\n",
    "    eval_triples.extend(dataset['dev_tasks'][rel][3:])"
   ],
   "metadata": {
    "collapsed": false,
    "ExecuteTime": {
     "end_time": "2023-11-23T12:29:26.522784100Z",
     "start_time": "2023-11-23T12:29:26.501232300Z"
    }
   },
   "id": "30de08d2b702a5d5"
  },
  {
   "cell_type": "code",
   "execution_count": 24,
   "outputs": [],
   "source": [
    "# eval_triples = []\n",
    "eval_triples.extend(dataset['dev_tasks'][all_rels[0]][:3])\n"
   ],
   "metadata": {
    "collapsed": false,
    "ExecuteTime": {
     "end_time": "2023-11-23T12:33:03.409418Z",
     "start_time": "2023-11-23T12:33:03.385421Z"
    }
   },
   "id": "4e52341798a02474"
  },
  {
   "cell_type": "code",
   "execution_count": 25,
   "outputs": [
    {
     "data": {
      "text/plain": "[['concept:academicfield:management_program',\n  'concept:academicfieldsuchasacademicfield',\n  'concept:academicfield:business'],\n ['concept:academicfield:social_work',\n  'concept:academicfieldsuchasacademicfield',\n  'concept:academicfield:business'],\n ['concept:academicfield:biology',\n  'concept:academicfieldsuchasacademicfield',\n  'concept:politicsissue:environment'],\n ['concept:academicfield:management_program',\n  'concept:academicfieldsuchasacademicfield',\n  'concept:academicfield:business'],\n ['concept:academicfield:social_work',\n  'concept:academicfieldsuchasacademicfield',\n  'concept:academicfield:business'],\n ['concept:academicfield:biology',\n  'concept:academicfieldsuchasacademicfield',\n  'concept:politicsissue:environment']]"
     },
     "execution_count": 25,
     "metadata": {},
     "output_type": "execute_result"
    }
   ],
   "source": [
    "eval_triples"
   ],
   "metadata": {
    "collapsed": false,
    "ExecuteTime": {
     "end_time": "2023-11-23T12:33:03.792886600Z",
     "start_time": "2023-11-23T12:33:03.780890500Z"
    }
   },
   "id": "2b921407f7f8047d"
  },
  {
   "cell_type": "code",
   "execution_count": 19,
   "outputs": [
    {
     "data": {
      "text/plain": "92"
     },
     "execution_count": 19,
     "metadata": {},
     "output_type": "execute_result"
    }
   ],
   "source": [
    "len(dataset['dev_tasks'][all_rels[0]])"
   ],
   "metadata": {
    "collapsed": false,
    "ExecuteTime": {
     "end_time": "2023-11-23T12:31:42.102981600Z",
     "start_time": "2023-11-23T12:31:42.081977500Z"
    }
   },
   "id": "e6fbc1fade98b0b8"
  },
  {
   "cell_type": "code",
   "execution_count": null,
   "outputs": [],
   "source": [
    "# Test relation in eval\n",
    "# repeat relation is same"
   ],
   "metadata": {
    "collapsed": false
   },
   "id": "8ac5be14222ea4ec"
  }
 ],
 "metadata": {
  "kernelspec": {
   "display_name": "Python 3",
   "language": "python",
   "name": "python3"
  },
  "language_info": {
   "codemirror_mode": {
    "name": "ipython",
    "version": 2
   },
   "file_extension": ".py",
   "mimetype": "text/x-python",
   "name": "python",
   "nbconvert_exporter": "python",
   "pygments_lexer": "ipython2",
   "version": "2.7.6"
  }
 },
 "nbformat": 4,
 "nbformat_minor": 5
}
