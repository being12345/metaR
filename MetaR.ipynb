{
 "cells": [
  {
   "cell_type": "code",
   "execution_count": 2,
   "outputs": [
    {
     "name": "stdout",
     "output_type": "stream",
     "text": [
      "The autoreload extension is already loaded. To reload it, use:\n",
      "  %reload_ext autoreload\n"
     ]
    }
   ],
   "source": [
    "# python\n",
    "import os\n",
    "import math\n",
    "import csv\n",
    "\n",
    "# random\n",
    "import random\n",
    "#data analysis libraries\n",
    "import numpy as np\n",
    "import pandas as pd\n",
    "\n",
    "# machine learning\n",
    "import sklearn\n",
    "\n",
    "# deep learning\n",
    "import torch\n",
    "import torch.nn as nn\n",
    "from torch.utils.data import Dataset, DataLoader, random_split\n",
    "import torch.nn.functional as F\n",
    "import pytorch_lightning as pl\n",
    "\n",
    "#d2l\n",
    "import d2l.torch as d2l\n",
    "\n",
    "# For plotting learning curve\n",
    "from torch.utils.tensorboard import SummaryWriter\n",
    "\n",
    "\n",
    "#visualization libraries\n",
    "import matplotlib.pyplot as plt\n",
    "import seaborn as sns\n",
    "%matplotlib inline\n",
    "\n",
    "# For Progress Bar\n",
    "from tqdm import tqdm\n",
    "\n",
    "#ignore warnings\n",
    "import warnings\n",
    "\n",
    "warnings.filterwarnings('ignore')\n",
    "\n",
    "# auto load change\n",
    "%load_ext autoreload\n",
    "%autoreload 2"
   ],
   "metadata": {
    "collapsed": false,
    "ExecuteTime": {
     "end_time": "2023-11-20T05:50:24.254959400Z",
     "start_time": "2023-11-20T05:50:22.151271500Z"
    }
   },
   "id": "2499a40e3ae386ff"
  },
  {
   "cell_type": "markdown",
   "source": [
    "## Improvement\n",
    "+ relation not just one\n",
    "+ add base class"
   ],
   "metadata": {
    "collapsed": false
   }
  },
  {
   "cell_type": "markdown",
   "source": [
    "## Dataset and DataLoader\n",
    "+ `few`: instance number in support set\""
   ],
   "metadata": {
    "collapsed": false
   },
   "id": "a51f0a0f1339d505"
  },
  {
   "cell_type": "code",
   "execution_count": 3,
   "outputs": [],
   "source": [
    "import json\n",
    "import random\n",
    "\n",
    "import numpy as np\n",
    "\n",
    "dataset = dict()\n",
    "tail = ''\n",
    "data_dir = {\n",
    "    'train_tasks_in_train': '/train_tasks_in_train.json',\n",
    "    'train_tasks': '/train_tasks.json',\n",
    "    'test_tasks': '/test_tasks.json',\n",
    "    'dev_tasks': '/dev_tasks.json',\n",
    "\n",
    "    'rel2candidates_in_train': '/rel2candidates_in_train.json',\n",
    "    'rel2candidates': '/rel2candidates.json',\n",
    "\n",
    "    'e1rel_e2_in_train': '/e1rel_e2_in_train.json',\n",
    "    'e1rel_e2': '/e1rel_e2.json',\n",
    "\n",
    "    'ent2ids': '/ent2ids',\n",
    "    'ent2vec': '/ent2vec.npy',\n",
    "}\n",
    "\n",
    "for k, v in data_dir.items():\n",
    "    data_dir[k] = './NELL' + v"
   ],
   "metadata": {
    "collapsed": false,
    "ExecuteTime": {
     "end_time": "2023-11-20T05:50:26.702516600Z",
     "start_time": "2023-11-20T05:50:26.363269400Z"
    }
   },
   "id": "b83cc0b0805fbe8d"
  },
  {
   "cell_type": "code",
   "execution_count": 4,
   "outputs": [],
   "source": [
    "from data_loader import DataLoader\n",
    "\n",
    "params = {'few': 1, 'batch_size': 8, 'num_query': 3}\n",
    "dataset['train_tasks'] = json.load(open(data_dir['train_tasks' + tail]))  # (h_i, r, e_i) only one relation in a current task\n",
    "dataset['test_tasks'] = json.load(open(data_dir['test_tasks']))\n",
    "dataset['dev_tasks'] = json.load(open(data_dir['dev_tasks']))  #\n",
    "dataset['rel2candidates'] = json.load(open(data_dir['rel2candidates' + tail]))  # negative t candidate \n",
    "dataset['e1rel_e2'] = json.load(open(data_dir['e1rel_e2' + tail]))  # the whole graph key: e1rel value e2\n",
    "dataset['ent2id'] = json.load(open(data_dir['ent2ids']))    # entity id\n",
    "dataset['ent2emb'] = np.load(data_dir['ent2vec'])   # entity embedding\n",
    "\n",
    "train_data_loader = DataLoader(dataset, params, step='train')"
   ],
   "metadata": {
    "collapsed": false,
    "ExecuteTime": {
     "end_time": "2023-11-20T05:50:28.334399500Z",
     "start_time": "2023-11-20T05:50:27.741799100Z"
    }
   },
   "id": "178867ad723625d5"
  },
  {
   "cell_type": "markdown",
   "source": [
    "### construct support and query\n",
    "random choose support(相同数量 positive and negative) query(相同数量 positive and negative) according current relation"
   ],
   "metadata": {
    "collapsed": false
   },
   "id": "25d8b6af952337be"
  },
  {
   "cell_type": "code",
   "execution_count": 50,
   "outputs": [],
   "source": [
    "few = 1\n",
    "nq = 3\n",
    "curr_rel_idx = 0\n",
    "all_rels = sorted(list(dataset['train_tasks'].keys()))\n",
    "rel2candidates = dataset['rel2candidates']\n",
    "tasks = dataset['train' + '_tasks']\n",
    "curr_rel = all_rels[curr_rel_idx]\n",
    "curr_rel_idx = curr_rel_idx + 1\n",
    "curr_cand = rel2candidates[curr_rel]  # relation candidate?\n",
    "e1rel_e2 = dataset['e1rel_e2']"
   ],
   "metadata": {
    "collapsed": false,
    "ExecuteTime": {
     "end_time": "2023-11-13T05:59:38.756212400Z",
     "start_time": "2023-11-13T05:59:38.729214600Z"
    }
   },
   "id": "521dc97e02902e6e"
  },
  {
   "cell_type": "code",
   "execution_count": 38,
   "outputs": [],
   "source": [
    "# random choose support and query according current relation\n",
    "curr_tasks = tasks[curr_rel]\n",
    "curr_tasks_idx = np.arange(0, len(curr_tasks), 1)\n",
    "curr_tasks_idx = np.random.choice(curr_tasks_idx, few + nq)\n",
    "support_triples = [curr_tasks[i] for i in curr_tasks_idx[:few]]\n",
    "query_triples = [curr_tasks[i] for i in curr_tasks_idx[few:]]"
   ],
   "metadata": {
    "collapsed": false,
    "ExecuteTime": {
     "end_time": "2023-11-13T05:27:47.083953400Z",
     "start_time": "2023-11-13T05:27:47.070943400Z"
    }
   },
   "id": "3e73504a9d6a2af6"
  },
  {
   "cell_type": "code",
   "execution_count": 84,
   "outputs": [
    {
     "data": {
      "text/plain": "([['concept:academicfield:technology',\n   'concept:academicfieldsuchasacademicfield',\n   'concept:academicfield:design']],\n [['concept:academicfield:technology',\n   'concept:academicfieldsuchasacademicfield',\n   'concept:academicfield:general_education']],\n [['concept:academicfield:science',\n   'concept:academicfieldsuchasacademicfield',\n   'concept:academicfield:philosophy'],\n  ['concept:academicfield:international_business',\n   'concept:academicfieldsuchasacademicfield',\n   'concept:academicfield:business'],\n  ['concept:academicfield:technology',\n   'concept:academicfieldsuchasacademicfield',\n   'concept:academicfield:civil_engineering_degree']],\n [['concept:academicfield:science',\n   'concept:academicfieldsuchasacademicfield',\n   'concept:academicfield:literatures'],\n  ['concept:academicfield:international_business',\n   'concept:academicfieldsuchasacademicfield',\n   'concept:academicfield:church_history'],\n  ['concept:academicfield:technology',\n   'concept:academicfieldsuchasacademicfield',\n   'concept:academicfield:social']])"
     },
     "execution_count": 84,
     "metadata": {},
     "output_type": "execute_result"
    }
   ],
   "source": [
    "# construct support and query negative triples(num same as positive)\n",
    "support_negative_triples = []\n",
    "for triple in support_triples:\n",
    "    e1, rel, e2 = triple\n",
    "    while True:\n",
    "        negative = random.choice(curr_cand)\n",
    "        if (negative not in e1rel_e2[e1 + rel]) \\\n",
    "                and negative != e2:\n",
    "            break\n",
    "    support_negative_triples.append([e1, rel, negative])\n",
    "\n",
    "negative_triples = []\n",
    "for triple in query_triples:\n",
    "    e1, rel, e2 = triple\n",
    "    while True:\n",
    "        negative = random.choice(curr_cand)\n",
    "        if (negative not in e1rel_e2[e1 + rel]) \\\n",
    "                and negative != e2:\n",
    "            break\n",
    "    negative_triples.append([e1, rel, negative])\n",
    "support_triples, support_negative_triples, query_triples, negative_triples"
   ],
   "metadata": {
    "collapsed": false,
    "ExecuteTime": {
     "end_time": "2023-11-13T11:21:22.030424900Z",
     "start_time": "2023-11-13T11:21:21.954419300Z"
    }
   },
   "id": "ba946eb90d916260"
  },
  {
   "cell_type": "code",
   "execution_count": 5,
   "outputs": [],
   "source": [
    "train_task, curr_rel = train_data_loader.next_batch()   # train task consist of batch_size support, support_negative, query, query_negative"
   ],
   "metadata": {
    "collapsed": false,
    "ExecuteTime": {
     "end_time": "2023-11-20T05:50:34.533638400Z",
     "start_time": "2023-11-20T05:50:34.159801500Z"
    }
   },
   "id": "369f000dea658f6e"
  },
  {
   "cell_type": "code",
   "execution_count": 16,
   "outputs": [
    {
     "data": {
      "text/plain": "[['concept:grain:crops',\n  'concept:agriculturalproducttoattractinsect',\n  'concept:insect:aphids']]"
     },
     "execution_count": 16,
     "metadata": {},
     "output_type": "execute_result"
    }
   ],
   "source": [
    "train_task[0][0]"
   ],
   "metadata": {
    "collapsed": false,
    "ExecuteTime": {
     "end_time": "2023-11-20T05:55:11.046988600Z",
     "start_time": "2023-11-20T05:55:10.720372500Z"
    }
   }
  },
  {
   "cell_type": "code",
   "execution_count": 18,
   "outputs": [
    {
     "data": {
      "text/plain": "[['concept:agriculturalproduct:wool',\n  'concept:agriculturalproducttoattractinsect',\n  'concept:insect:moths'],\n ['concept:agriculturalproduct:tree',\n  'concept:agriculturalproducttoattractinsect',\n  'concept:insect:larvae'],\n ['concept:agriculturalproduct:leaves',\n  'concept:agriculturalproducttoattractinsect',\n  'concept:insect:ants']]"
     },
     "execution_count": 18,
     "metadata": {},
     "output_type": "execute_result"
    }
   ],
   "source": [
    "train_task[2][0]"
   ],
   "metadata": {
    "collapsed": false,
    "ExecuteTime": {
     "end_time": "2023-11-20T05:55:17.067633200Z",
     "start_time": "2023-11-20T05:55:16.751406400Z"
    }
   }
  },
  {
   "cell_type": "code",
   "execution_count": 91,
   "outputs": [
    {
     "data": {
      "text/plain": "(4, 8)"
     },
     "execution_count": 91,
     "metadata": {},
     "output_type": "execute_result"
    }
   ],
   "source": [
    "len(train_task), len(train_task[0])"
   ],
   "metadata": {
    "collapsed": false,
    "ExecuteTime": {
     "end_time": "2023-11-13T11:24:42.042255800Z",
     "start_time": "2023-11-13T11:24:41.979263300Z"
    }
   },
   "id": "9051d47047ca5038"
  },
  {
   "cell_type": "markdown",
   "source": [
    "## MetaR train"
   ],
   "metadata": {
    "collapsed": false
   },
   "id": "fc2366e93fb9b9a1"
  },
  {
   "cell_type": "markdown",
   "source": [
    "### embedding entity\n",
    "get embeddings according to entity id "
   ],
   "metadata": {
    "collapsed": false
   },
   "id": "38ae403f2a29760e"
  },
  {
   "cell_type": "code",
   "execution_count": 98,
   "outputs": [
    {
     "data": {
      "text/plain": "(torch.Size([8, 1, 2, 100]),\n torch.Size([8, 3, 2, 100]),\n torch.Size([8, 1, 2, 100]))"
     },
     "execution_count": 98,
     "metadata": {},
     "output_type": "execute_result"
    }
   ],
   "source": [
    "from embedding import Embedding\n",
    "\n",
    "\n",
    "parameter = {'device': 'cpu', 'embed_dim': 100, 'data_form': 'Pre-Train'}\n",
    "embedding = Embedding(dataset, parameter)\n",
    "support, support_negative, query, negative = [embedding(t) for t in train_task]\n",
    "\n",
    "support.shape, query.shape, support_negative.shape  # shape (batch_size, num, e1_d2, embedding_shape)"
   ],
   "metadata": {
    "collapsed": false,
    "ExecuteTime": {
     "end_time": "2023-11-13T11:32:30.755723700Z",
     "start_time": "2023-11-13T11:32:30.680729300Z"
    }
   },
   "id": "975ef0fba40a55a1"
  },
  {
   "cell_type": "markdown",
   "source": [
    "### relation learner\n",
    "![](imgs/img.png)\n",
    "![](imgs/img_4.png)"
   ],
   "metadata": {
    "collapsed": false
   },
   "id": "b6d516b8032ef8a7"
  },
  {
   "cell_type": "code",
   "execution_count": 110,
   "outputs": [
    {
     "data": {
      "text/plain": "(torch.Size([8, 1, 1, 100]), torch.Size([8, 2, 1, 100]))"
     },
     "execution_count": 110,
     "metadata": {},
     "output_type": "execute_result"
    }
   ],
   "source": [
    "from models import RelationMetaLearner\n",
    "\n",
    "# learn relation(FC)\n",
    "relation_learner = RelationMetaLearner(1, embed_size=100, num_hidden1=500, num_hidden2=200, out_size=100, dropout_p=0.5)\n",
    "rel = relation_learner(support)    # FC\n",
    "few = 1\n",
    "num_sn = 1\n",
    "rel_s = rel.expand(-1, few+num_sn, -1, -1)\n",
    "rel.shape, rel_s.shape"
   ],
   "metadata": {
    "collapsed": false,
    "ExecuteTime": {
     "end_time": "2023-11-13T12:25:57.513641400Z",
     "start_time": "2023-11-13T12:25:57.456649Z"
    }
   },
   "id": "38c27d083afc43fe"
  },
  {
   "cell_type": "markdown",
   "source": [
    "### gradient descent in support \n",
    "![](imgs/img_1.png)\n",
    "![](imgs/img_2.png)\n",
    "![](imgs/img_3.png)"
   ],
   "metadata": {
    "collapsed": false
   },
   "id": "3fedf8f1c4bc7478"
  },
  {
   "cell_type": "code",
   "execution_count": 121,
   "outputs": [
    {
     "data": {
      "text/plain": "torch.Size([8, 2, 1, 100])"
     },
     "execution_count": 121,
     "metadata": {},
     "output_type": "execute_result"
    }
   ],
   "source": [
    "def split_concat(positive, negative):\n",
    "    pos_neg_e1 = torch.cat([positive[:, :, 0, :],\n",
    "                            negative[:, :, 0, :]], 1).unsqueeze(2)\n",
    "    pos_neg_e2 = torch.cat([positive[:, :, 1, :],\n",
    "                            negative[:, :, 1, :]], 1).unsqueeze(2)\n",
    "    return pos_neg_e1, pos_neg_e2\n",
    "sup_neg_e1, sup_neg_e2 = split_concat(support, support_negative)\n",
    "sup_neg_e1.shape\n",
    "score = -torch.norm(sup_neg_e1 + rel_s - sup_neg_e2, 2, -1).squeeze(2)\n",
    "score.shape"
   ],
   "metadata": {
    "collapsed": false,
    "ExecuteTime": {
     "end_time": "2023-11-13T12:52:45.893690500Z",
     "start_time": "2023-11-13T12:52:45.168683300Z"
    }
   },
   "id": "4a8456c98bcc777f"
  },
  {
   "cell_type": "code",
   "execution_count": 20,
   "outputs": [
    {
     "data": {
      "text/plain": "tensor(0.)"
     },
     "execution_count": 20,
     "metadata": {},
     "output_type": "execute_result"
    }
   ],
   "source": [
    "loss_func = nn.MarginRankingLoss(0)\n",
    "loss_func(torch.ones(1024, 1), torch.ones(1024, 1), torch.ones(1))\n"
   ],
   "metadata": {
    "collapsed": false,
    "ExecuteTime": {
     "end_time": "2023-11-20T06:11:43.896832100Z",
     "start_time": "2023-11-20T06:11:43.535843200Z"
    }
   },
   "id": "7428702aef0c7c83"
  },
  {
   "cell_type": "code",
   "execution_count": 21,
   "outputs": [
    {
     "data": {
      "text/plain": "tensor([[1.],\n        [1.],\n        [1.],\n        ...,\n        [1.],\n        [1.],\n        [1.]])"
     },
     "execution_count": 21,
     "metadata": {},
     "output_type": "execute_result"
    }
   ],
   "source": [
    "torch.ones(1024, 1)"
   ],
   "metadata": {
    "collapsed": false,
    "ExecuteTime": {
     "end_time": "2023-11-20T06:14:15.668040300Z",
     "start_time": "2023-11-20T06:14:15.348665900Z"
    }
   }
  }
 ],
 "metadata": {
  "kernelspec": {
   "display_name": "Python 3",
   "language": "python",
   "name": "python3"
  },
  "language_info": {
   "codemirror_mode": {
    "name": "ipython",
    "version": 2
   },
   "file_extension": ".py",
   "mimetype": "text/x-python",
   "name": "python",
   "nbconvert_exporter": "python",
   "pygments_lexer": "ipython2",
   "version": "2.7.6"
  }
 },
 "nbformat": 4,
 "nbformat_minor": 5
}
